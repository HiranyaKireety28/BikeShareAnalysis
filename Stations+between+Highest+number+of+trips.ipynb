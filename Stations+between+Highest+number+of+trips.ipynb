{
 "cells": [
  {
   "cell_type": "code",
   "execution_count": 32,
   "metadata": {},
   "outputs": [],
   "source": [
    "import pandas\n",
    "import numpy\n",
    "import matplotlib.pyplot as pt\n",
    "import folium\n",
    "from folium import Figure,FeatureGroup,Icon\n",
    "\n",
    "df2014   = pandas.read_csv('C:\\\\Users\\\\hiranya kireety\\\\Downloads\\\\bikeshareanalysis\\\\201402_trip_data.csv',usecols = ['Trip ID','Start Station','Start Date','End Station'])\n",
    "df2014_2 = pandas.read_csv('C:\\\\Users\\\\hiranya kireety\\\\Downloads\\\\bikeshareanalysis\\\\201408_trip_data.csv',usecols = ['Trip ID','Start Station','Start Date','End Station'])\n",
    "df2015   = pandas.read_csv('C:\\\\Users\\\\hiranya kireety\\\\Downloads\\\\bikeshareanalysis\\\\201508_trip_data.csv',usecols = ['Trip ID','Start Station','Start Date','End Station'])\n",
    "dataframes = [df2014,df2014_2,df2015]\n",
    "df = pandas.concat(dataframes)\n",
    "df = df.drop_duplicates('Trip ID')\n",
    "\n",
    "sstrips = df.loc[:,['Trip ID','Start Station','End Station']].copy()\n",
    "sstrips = sstrips.groupby(['Start Station','End Station'],as_index = False).count()\n",
    "sstrips.sort_values('Trip ID',ascending=True)\n",
    "\n",
    "locations = pandas.read_csv('C:\\\\Users\\\\hiranya kireety\\\\Downloads\\\\bikeshareanalysis\\\\201408_station_data.csv',usecols = ['name','lat','long'])\n",
    "locations = locations.drop_duplicates('name')\n",
    "locations = locations.set_index('name')\n",
    "hss = sstrips.iloc[0,0]\n",
    "hsslat = locations.loc[hss,'lat']\n",
    "hsslon = locations.loc[hss,'long']\n",
    "hes = sstrips.iloc[0,1]\n",
    "heslat = locations.loc[hes,'lat']\n",
    "heslon = locations.loc[hes,'long']\n",
    "if(hsslat == heslat and hsslon == heslon):\n",
    "   heslon = float(heslon)+0.1 \n",
    "map = folium.Map(location=[37.0902,-95.7129],zoom_start = 4)\n",
    "fg = FeatureGroup(name=\"Start and End Stations\")\n",
    "fg.add_child(folium.Marker(location=[hsslat,hsslon],icon = Icon(\"orange\"),popup = hss))\n",
    "fg.add_child(folium.Marker(location=[heslat,heslon],icon = Icon(\"blue\"),popup = hes))\n",
    "map.add_child(fg)\n",
    "map.save('C:\\\\Users\\\\hiranya kireety\\\\Downloads\\\\python_udacity\\\\setrips.html')\n"
   ]
  }
 ],
 "metadata": {
  "kernelspec": {
   "display_name": "Python 3",
   "language": "python",
   "name": "python3"
  },
  "language_info": {
   "codemirror_mode": {
    "name": "ipython",
    "version": 3
   },
   "file_extension": ".py",
   "mimetype": "text/x-python",
   "name": "python",
   "nbconvert_exporter": "python",
   "pygments_lexer": "ipython3",
   "version": "3.6.1"
  }
 },
 "nbformat": 4,
 "nbformat_minor": 2
}
