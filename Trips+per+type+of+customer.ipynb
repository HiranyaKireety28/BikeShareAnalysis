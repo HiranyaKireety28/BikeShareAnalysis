{
 "cells": [
  {
   "cell_type": "raw",
   "metadata": {},
   "source": []
  },
  {
   "cell_type": "code",
   "execution_count": 6,
   "metadata": {},
   "outputs": [
    {
     "data": {
      "image/png": "[encoded data removed]",
      "text/plain": [
       "<matplotlib.figure.Figure at 0x2a952f2ac88>"
      ]
     },
     "metadata": {},
     "output_type": "display_data"
    }
   ],
   "source": [
    "import pandas\n",
    "import numpy\n",
    "import matplotlib.pyplot as pt\n",
    "\n",
    "df2014    = pandas.read_csv('C:\\\\Users\\\\hiranya kireety\\\\Downloads\\\\bikeshareanalysis\\\\201402_trip_data.csv',usecols = ['Trip ID','Subscription Type'])\n",
    "df2014_02 = pandas.read_csv('C:\\\\Users\\\\hiranya kireety\\\\Downloads\\\\bikeshareanalysis\\\\201408_trip_data.csv',usecols = ['Trip ID','Subscriber Type'])\n",
    "df2015    = pandas.read_csv('C:\\\\Users\\\\hiranya kireety\\\\Downloads\\\\bikeshareanalysis\\\\201508_trip_data.csv',usecols = ['Trip ID','Subscriber Type'])\n",
    "df2014    = df2014.rename(columns = {'Subscription Type':'Subscriber Type'})\n",
    "dataframes = [df2014,df2014_02,df2015]\n",
    "df = pandas.concat(dataframes)\n",
    "customerTypes = df['Subscriber Type'].drop_duplicates()\n",
    "df = df.groupby('Subscriber Type',as_index=False).count()\n",
    "fig,ax = pt.subplots()\n",
    "ax.set_title('Trip per customer type')\n",
    "ax.set_xlabel('Customer Type')\n",
    "ax.set_ylabel('Number of Trips')\n",
    "ax.set_xticks(numpy.arange(customerTypes.count()))\n",
    "ax.set_xticklabels(customerTypes)\n",
    "ax.set_yticks(df['Trip ID'])\n",
    "ax.set_yticklabels(df['Trip ID'])\n",
    "ax.bar(numpy.arange(customerTypes.count()),df['Trip ID'],color = \"pink\")\n",
    "pt.show()\n"
   ]
  }
 ],
 "metadata": {
  "kernelspec": {
   "display_name": "Python 3",
   "language": "python",
   "name": "python3"
  },
  "language_info": {
   "codemirror_mode": {
    "name": "ipython",
    "version": 3
   },
   "file_extension": ".py",
   "mimetype": "text/x-python",
   "name": "python",
   "nbconvert_exporter": "python",
   "pygments_lexer": "ipython3",
   "version": "3.6.1"
  }
 },
 "nbformat": 4,
 "nbformat_minor": 2
}
